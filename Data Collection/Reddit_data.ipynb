{
 "cells": [
  {
   "cell_type": "code",
   "execution_count": 62,
   "id": "fa53b931-ec38-4ed3-867b-25e450773686",
   "metadata": {},
   "outputs": [],
   "source": [
    "import praw\n",
    "import pandas as pd"
   ]
  },
  {
   "cell_type": "code",
   "execution_count": 63,
   "id": "78345016-cd2a-4ca0-9a70-7c5328c6b32d",
   "metadata": {},
   "outputs": [],
   "source": [
    "reddit = praw.Reddit(\n",
    "    client_id='2ctLrnC3C8mEsfdVXV5yCw',       \n",
    "    client_secret='UEPHTaMaViuzhlkxd-xfFBe6IrkZ_g',  \n",
    "    user_agent='duc/0.1 by Leanhtuanln',\n",
    "    ratelimit_seconds=300      \n",
    ")"
   ]
  },
  {
   "cell_type": "code",
   "execution_count": 64,
   "id": "b9093b0c-66d7-476b-9200-d3db6a37b9c9",
   "metadata": {},
   "outputs": [],
   "source": [
    "subreddits = ['remotework', 'workfromhome','remotejobs']"
   ]
  },
  {
   "cell_type": "code",
   "execution_count": 65,
   "id": "fd57ba25-cc55-48c8-ad6c-5e30c8978ffa",
   "metadata": {},
   "outputs": [],
   "source": [
    "data = []\n",
    "\n",
    "# extract posts from each subreddit\n",
    "for subreddit_name in subreddits:\n",
    "    subreddit = reddit.subreddit(subreddit_name)\n",
    "\n",
    "    # top posts\n",
    "    for post in subreddit.top(limit=750):  \n",
    "        \n",
    "        # extract the main post data\n",
    "        post_data = {\n",
    "            'topic_title': post.title,        \n",
    "            'text': post.selftext,           \n",
    "            'id': post.id,                    \n",
    "            'author': str(post.author),       \n",
    "            'subreddit': subreddit_name,      \n",
    "            'link_id': post.id,               \n",
    "            'parent_id': None,\n",
    "            'num_comments': post.num_comments,\n",
    "            'upvotes': post.score,                 \n",
    "            'created_utc': str(post.created_utc),               \n",
    "        }\n",
    "        data.append(post_data)\n",
    "\n",
    "        # extract comments \n",
    "        post.comments.replace_more(limit=0)  \n",
    "        for comment in post.comments.list():\n",
    "            comment_data = {\n",
    "                'topic_title': post.title,        \n",
    "                'text': comment.body,             \n",
    "                'id': comment.id,                 \n",
    "                'author': str(comment.author),     \n",
    "                'subreddit': subreddit_name,      \n",
    "                'link_id': post.id,              \n",
    "                'parent_id': comment.parent_id,\n",
    "                'num_comments': None,\n",
    "                'upvotes': comment.score,                    \n",
    "                'created_utc': str(comment.created_utc)\n",
    "            }\n",
    "            data.append(comment_data)"
   ]
  },
  {
   "cell_type": "code",
   "execution_count": 66,
   "id": "42b03c64-c6a4-4491-be90-011c75ebd81c",
   "metadata": {},
   "outputs": [],
   "source": [
    "df = pd.DataFrame(data)\n",
    "df.to_csv('reddit_remote_work_data_with_comments.csv', index=False, encoding='utf-8-sig')"
   ]
  }
 ],
 "metadata": {
  "kernelspec": {
   "display_name": "Python 3 (ipykernel)",
   "language": "python",
   "name": "python3"
  },
  "language_info": {
   "codemirror_mode": {
    "name": "ipython",
    "version": 3
   },
   "file_extension": ".py",
   "mimetype": "text/x-python",
   "name": "python",
   "nbconvert_exporter": "python",
   "pygments_lexer": "ipython3",
   "version": "3.12.7"
  }
 },
 "nbformat": 4,
 "nbformat_minor": 5
}
