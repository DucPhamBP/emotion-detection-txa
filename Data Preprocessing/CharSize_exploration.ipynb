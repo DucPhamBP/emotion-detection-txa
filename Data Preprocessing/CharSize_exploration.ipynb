{
 "cells": [
  {
   "cell_type": "code",
   "execution_count": 37,
   "metadata": {},
   "outputs": [],
   "source": [
    "import pandas as pd\n",
    "import numpy as np\n",
    "\n",
    "data = pd.read_csv('../Data preprocessing/merged_df.csv')"
   ]
  },
  {
   "cell_type": "code",
   "execution_count": 38,
   "metadata": {},
   "outputs": [
    {
     "name": "stdout",
     "output_type": "stream",
     "text": [
      "Character count threshold (91th percentile): 512\n",
      "Number of texts above threshold: 16732\n",
      "Average length of long texts: 890 characters\n"
     ]
    }
   ],
   "source": [
    "# Calculate the length of each text\n",
    "text_lengths = data['text'].str.len()\n",
    "data['charnum'] = text_lengths\n",
    "\n",
    "# Find the 91th percentile (threshold for top 9%)\n",
    "percentile_91 = text_lengths.quantile(0.906)\n",
    "\n",
    "# Get the rows that are in the top 9%\n",
    "long_texts = text_lengths[text_lengths >= percentile_91]\n",
    "\n",
    "print(f\"Character count threshold (91th percentile): {percentile_91:.0f}\")\n",
    "print(f\"Number of texts above threshold: {len(long_texts)}\")\n",
    "print(f\"Average length of long texts: {long_texts.mean():.0f} characters\")"
   ]
  },
  {
   "cell_type": "code",
   "execution_count": 39,
   "metadata": {},
   "outputs": [
    {
     "name": "stdout",
     "output_type": "stream",
     "text": [
      "Number of Reddit posts: 16674\n",
      "Percentage of Reddit posts: 100.0%\n"
     ]
    }
   ],
   "source": [
    "long_texts = data[data['charnum'] > percentile_91]\n",
    "short_texts = data[data['charnum'] <= percentile_91]\n",
    "# Count Reddit rows in long_texts\n",
    "reddit_count = len(long_texts[long_texts['source'] == 'Reddit'])\n",
    "total_count = len(long_texts)\n",
    "\n",
    "print(f\"Number of Reddit posts: {reddit_count}\")\n",
    "print(f\"Percentage of Reddit posts: {(reddit_count/total_count)*100:.1f}%\")\n"
   ]
  },
  {
   "cell_type": "markdown",
   "metadata": {},
   "source": [
    "# Cutting the data to the 91 percentile (long texts deleted)"
   ]
  },
  {
   "cell_type": "code",
   "execution_count": 40,
   "metadata": {},
   "outputs": [],
   "source": [
    "del short_texts['charnum']\n",
    "short_texts.to_csv('../Data preprocessing/merged_df_91.csv', index=False)\n"
   ]
  }
 ],
 "metadata": {
  "kernelspec": {
   "display_name": "masterDS-exp",
   "language": "python",
   "name": "python3"
  },
  "language_info": {
   "codemirror_mode": {
    "name": "ipython",
    "version": 3
   },
   "file_extension": ".py",
   "mimetype": "text/x-python",
   "name": "python",
   "nbconvert_exporter": "python",
   "pygments_lexer": "ipython3",
   "version": "3.11.5"
  }
 },
 "nbformat": 4,
 "nbformat_minor": 2
}
