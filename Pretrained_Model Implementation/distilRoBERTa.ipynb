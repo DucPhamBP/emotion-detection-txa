{
 "cells": [
  {
   "cell_type": "code",
   "execution_count": 5,
   "metadata": {},
   "outputs": [],
   "source": [
    "#Imports\n",
    "from transformers import pipeline\n",
    "import pandas as pd\n",
    "\n",
    "#For deleting models from your machine\n",
    "#pip install huggingface_hub[\"cli\"]\n",
    "#huggingface-cli delete-cache"
   ]
  },
  {
   "cell_type": "code",
   "execution_count": 6,
   "metadata": {},
   "outputs": [],
   "source": [
    "#Load the pre-tuned model\n",
    "distil_ROBERTa_model = 'michellejieli/emotion_text_classifier'\n",
    "\n",
    "\n",
    "emotion_classifier = pipeline(\"sentiment-analysis\", model=distil_ROBERTa_model)\n",
    "#Checking other models\n",
    "#emotion_classifier = pipeline(\"text-classification\", model=\"yangswei/emotion_text_classification\")\n"
   ]
  },
  {
   "cell_type": "code",
   "execution_count": 7,
   "metadata": {},
   "outputs": [],
   "source": [
    "# Load the csv file containing text from X and Reddit\n",
    "social_media_data = pd.read_csv('../Data preprocessing/prep_df_final_85.csv')\n",
    "#social_media_data = social_media_data.iloc[4000:4300]"
   ]
  },
  {
   "cell_type": "code",
   "execution_count": 8,
   "metadata": {},
   "outputs": [
    {
     "data": {
      "text/html": [
       "<div>\n",
       "<style scoped>\n",
       "    .dataframe tbody tr th:only-of-type {\n",
       "        vertical-align: middle;\n",
       "    }\n",
       "\n",
       "    .dataframe tbody tr th {\n",
       "        vertical-align: top;\n",
       "    }\n",
       "\n",
       "    .dataframe thead th {\n",
       "        text-align: right;\n",
       "    }\n",
       "</style>\n",
       "<table border=\"1\" class=\"dataframe\">\n",
       "  <thead>\n",
       "    <tr style=\"text-align: right;\">\n",
       "      <th></th>\n",
       "      <th>subreddit</th>\n",
       "      <th>link_id</th>\n",
       "      <th>parent_id</th>\n",
       "      <th>created_utc</th>\n",
       "      <th>upvotes</th>\n",
       "      <th>text</th>\n",
       "      <th>predictions</th>\n",
       "    </tr>\n",
       "  </thead>\n",
       "  <tbody>\n",
       "    <tr>\n",
       "      <th>0</th>\n",
       "      <td>remotework</td>\n",
       "      <td>1fy22yp</td>\n",
       "      <td>t3_1fy22yp</td>\n",
       "      <td>2024-10-07 13:03:07</td>\n",
       "      <td>17</td>\n",
       "      <td>Oh how offices have changed the movie office s...</td>\n",
       "      <td>neutral</td>\n",
       "    </tr>\n",
       "    <tr>\n",
       "      <th>1</th>\n",
       "      <td>remotework</td>\n",
       "      <td>1fy22yp</td>\n",
       "      <td>t3_1fy22yp</td>\n",
       "      <td>2024-10-07 11:38:45</td>\n",
       "      <td>79</td>\n",
       "      <td>Oh how offices have changed when i was in the ...</td>\n",
       "      <td>neutral</td>\n",
       "    </tr>\n",
       "    <tr>\n",
       "      <th>2</th>\n",
       "      <td>remotework</td>\n",
       "      <td>1fy22yp</td>\n",
       "      <td>t3_1fy22yp</td>\n",
       "      <td>2024-10-07 11:41:54</td>\n",
       "      <td>66</td>\n",
       "      <td>Oh how offices have changed you were also sexu...</td>\n",
       "      <td>surprise</td>\n",
       "    </tr>\n",
       "    <tr>\n",
       "      <th>3</th>\n",
       "      <td>remotework</td>\n",
       "      <td>1fy22yp</td>\n",
       "      <td>t3_1fy22yp</td>\n",
       "      <td>2024-10-07 16:17:46</td>\n",
       "      <td>11</td>\n",
       "      <td>Oh how offices have changed overwhelmingly mos...</td>\n",
       "      <td>surprise</td>\n",
       "    </tr>\n",
       "    <tr>\n",
       "      <th>4</th>\n",
       "      <td>remotework</td>\n",
       "      <td>1fy22yp</td>\n",
       "      <td>t3_1fy22yp</td>\n",
       "      <td>2024-10-07 11:43:37</td>\n",
       "      <td>28</td>\n",
       "      <td>Oh how offices have changed this isn't even cl...</td>\n",
       "      <td>surprise</td>\n",
       "    </tr>\n",
       "  </tbody>\n",
       "</table>\n",
       "</div>"
      ],
      "text/plain": [
       "    subreddit  link_id   parent_id          created_utc  upvotes  \\\n",
       "0  remotework  1fy22yp  t3_1fy22yp  2024-10-07 13:03:07       17   \n",
       "1  remotework  1fy22yp  t3_1fy22yp  2024-10-07 11:38:45       79   \n",
       "2  remotework  1fy22yp  t3_1fy22yp  2024-10-07 11:41:54       66   \n",
       "3  remotework  1fy22yp  t3_1fy22yp  2024-10-07 16:17:46       11   \n",
       "4  remotework  1fy22yp  t3_1fy22yp  2024-10-07 11:43:37       28   \n",
       "\n",
       "                                                text predictions  \n",
       "0  Oh how offices have changed the movie office s...     neutral  \n",
       "1  Oh how offices have changed when i was in the ...     neutral  \n",
       "2  Oh how offices have changed you were also sexu...    surprise  \n",
       "3  Oh how offices have changed overwhelmingly mos...    surprise  \n",
       "4  Oh how offices have changed this isn't even cl...    surprise  "
      ]
     },
     "execution_count": 8,
     "metadata": {},
     "output_type": "execute_result"
    }
   ],
   "source": [
    "# Classify the text column and store the results in a new column\n",
    "social_media_data['predictions'] = social_media_data['text'].apply(lambda x: emotion_classifier(x)[0]['label'])\n",
    "\n",
    "social_media_data.head(5)"
   ]
  },
  {
   "cell_type": "code",
   "execution_count": 9,
   "metadata": {},
   "outputs": [],
   "source": [
    "# Save the dataframe with the predictions to a new CSV\n",
    "social_media_data.to_csv(\"labeled_data_reddit_text_85 .csv\", index=False)"
   ]
  }
 ],
 "metadata": {
  "kernelspec": {
   "display_name": "masterDS-exp",
   "language": "python",
   "name": "python3"
  },
  "language_info": {
   "codemirror_mode": {
    "name": "ipython",
    "version": 3
   },
   "file_extension": ".py",
   "mimetype": "text/x-python",
   "name": "python",
   "nbconvert_exporter": "python",
   "pygments_lexer": "ipython3",
   "version": "3.11.5"
  }
 },
 "nbformat": 4,
 "nbformat_minor": 2
}
