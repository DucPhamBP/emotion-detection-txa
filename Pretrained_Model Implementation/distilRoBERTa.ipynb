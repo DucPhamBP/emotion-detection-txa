{
 "cells": [
  {
   "cell_type": "code",
   "execution_count": 5,
   "metadata": {},
   "outputs": [],
   "source": [
    "#Imports\n",
    "from transformers import pipeline\n",
    "import pandas as pd\n",
    "\n",
    "#For deleting models from your machine\n",
    "#pip install huggingface_hub[\"cli\"]\n",
    "#huggingface-cli delete-cache"
   ]
  },
  {
   "cell_type": "code",
   "execution_count": 6,
   "metadata": {},
   "outputs": [],
   "source": [
    "#Load the pre-tuned model\n",
    "distil_ROBERTa_model = 'michellejieli/emotion_text_classifier'\n",
    "\n",
    "\n",
    "emotion_classifier = pipeline(\"sentiment-analysis\", model=distil_ROBERTa_model)\n",
    "#Checking other models\n",
    "#emotion_classifier = pipeline(\"text-classification\", model=\"yangswei/emotion_text_classification\")\n"
   ]
  },
  {
   "cell_type": "code",
   "execution_count": 7,
   "metadata": {},
   "outputs": [],
   "source": [
    "# Load the csv file containing text from X and Reddit\n",
    "social_media_data = pd.read_csv('../Data preprocessing/prep_df_final_85.csv')\n",
    "#social_media_data = social_media_data.iloc[4000:4300]"
   ]
  },
  {
   "cell_type": "code",
   "execution_count": 8,
   "metadata": {},
   "outputs": [],
   "source": [
    "# Classify the text column and store the results in a new column\n",
    "social_media_data['predictions'] = social_media_data['text'].apply(lambda x: emotion_classifier(x)[0]['label'])\n",
    "\n",
    "social_media_data.head(5)"
   ]
  },
  {
   "cell_type": "code",
   "execution_count": 14,
   "metadata": {},
   "outputs": [],
   "source": [
    "# Save the dataframe with the predictions to a new CSV\n",
    "social_media_data.to_csv(\"labeled_data_reddit_text_85.csv\", index=False)"
   ]
  }
 ],
 "metadata": {
  "kernelspec": {
   "display_name": "masterDS-exp",
   "language": "python",
   "name": "python3"
  },
  "language_info": {
   "codemirror_mode": {
    "name": "ipython",
    "version": 3
   },
   "file_extension": ".py",
   "mimetype": "text/x-python",
   "name": "python",
   "nbconvert_exporter": "python",
   "pygments_lexer": "ipython3",
   "version": "3.11.5"
  }
 },
 "nbformat": 4,
 "nbformat_minor": 2
}
