{
 "cells": [
  {
   "cell_type": "code",
   "execution_count": 9,
   "metadata": {},
   "outputs": [],
   "source": [
    "#Imports\n",
    "from transformers import pipeline\n",
    "import pandas as pd\n",
    "\n",
    "#For deleting models from your machine\n",
    "#pip install huggingface_hub[\"cli\"]\n",
    "#huggingface-cli delete-cache"
   ]
  },
  {
   "cell_type": "code",
   "execution_count": 10,
   "metadata": {},
   "outputs": [],
   "source": [
    "#Load the pre-tuned model\n",
    "distil_ROBERTa_model = 'michellejieli/emotion_text_classifier'\n",
    "\n",
    "\n",
    "emotion_classifier = pipeline(\"sentiment-analysis\", model=distil_ROBERTa_model)\n",
    "#Checking other models\n",
    "#emotion_classifier = pipeline(\"text-classification\", model=\"yangswei/emotion_text_classification\")\n"
   ]
  },
  {
   "cell_type": "code",
   "execution_count": 11,
   "metadata": {},
   "outputs": [],
   "source": [
    "# Load the csv file containing text from X and Reddit\n",
    "social_media_data = pd.read_csv('../Data preprocessing/merged_df_filtered_version_97.csv')\n",
    "#social_media_data = social_media_data.iloc[4000:4300]"
   ]
  },
  {
   "cell_type": "code",
   "execution_count": 12,
   "metadata": {},
   "outputs": [
    {
     "data": {
      "text/html": [
       "<div>\n",
       "<style scoped>\n",
       "    .dataframe tbody tr th:only-of-type {\n",
       "        vertical-align: middle;\n",
       "    }\n",
       "\n",
       "    .dataframe tbody tr th {\n",
       "        vertical-align: top;\n",
       "    }\n",
       "\n",
       "    .dataframe thead th {\n",
       "        text-align: right;\n",
       "    }\n",
       "</style>\n",
       "<table border=\"1\" class=\"dataframe\">\n",
       "  <thead>\n",
       "    <tr style=\"text-align: right;\">\n",
       "      <th></th>\n",
       "      <th>id</th>\n",
       "      <th>text</th>\n",
       "      <th>created_utc</th>\n",
       "      <th>likes</th>\n",
       "      <th>source</th>\n",
       "      <th>filtered_text</th>\n",
       "      <th>tokens</th>\n",
       "      <th>predictions</th>\n",
       "    </tr>\n",
       "  </thead>\n",
       "  <tbody>\n",
       "    <tr>\n",
       "      <th>0</th>\n",
       "      <td>1</td>\n",
       "      <td>easy ways to stop video conference screen free...</td>\n",
       "      <td>2024-10-14 14:59:40</td>\n",
       "      <td>0</td>\n",
       "      <td>Twitter</td>\n",
       "      <td>easy way stop video conference screen freeze o...</td>\n",
       "      <td>['easy', 'way', 'stop', 'video', 'conference',...</td>\n",
       "      <td>neutral</td>\n",
       "    </tr>\n",
       "    <tr>\n",
       "      <th>1</th>\n",
       "      <td>2</td>\n",
       "      <td>in the age of remoteworking you can work from ...</td>\n",
       "      <td>2024-10-14 14:05:20</td>\n",
       "      <td>0</td>\n",
       "      <td>Twitter</td>\n",
       "      <td>age remoteworke work need start</td>\n",
       "      <td>['age', 'remoteworke', 'work', 'need', 'start']</td>\n",
       "      <td>neutral</td>\n",
       "    </tr>\n",
       "    <tr>\n",
       "      <th>2</th>\n",
       "      <td>3</td>\n",
       "      <td>after the pandemic of covid remote working is ...</td>\n",
       "      <td>2024-10-14 12:30:23</td>\n",
       "      <td>0</td>\n",
       "      <td>Twitter</td>\n",
       "      <td>pandemic covid remote working increase globe b...</td>\n",
       "      <td>['pandemic', 'covid', 'remote', 'working', 'in...</td>\n",
       "      <td>joy</td>\n",
       "    </tr>\n",
       "    <tr>\n",
       "      <th>3</th>\n",
       "      <td>4</td>\n",
       "      <td>do employee monitoring tools have any place in...</td>\n",
       "      <td>2024-10-14 12:22:40</td>\n",
       "      <td>0</td>\n",
       "      <td>Twitter</td>\n",
       "      <td>employee monitoring tool have place remote wor...</td>\n",
       "      <td>['employee', 'monitoring', 'tool', 'have', 'pl...</td>\n",
       "      <td>neutral</td>\n",
       "    </tr>\n",
       "    <tr>\n",
       "      <th>4</th>\n",
       "      <td>5</td>\n",
       "      <td>a little paint lots of productivity and a whol...</td>\n",
       "      <td>2024-10-14 12:22:03</td>\n",
       "      <td>0</td>\n",
       "      <td>Twitter</td>\n",
       "      <td>little paint lot productivity whole new vibe c...</td>\n",
       "      <td>['little', 'paint', 'lot', 'productivity', 'wh...</td>\n",
       "      <td>joy</td>\n",
       "    </tr>\n",
       "  </tbody>\n",
       "</table>\n",
       "</div>"
      ],
      "text/plain": [
       "   id                                               text          created_utc  \\\n",
       "0   1  easy ways to stop video conference screen free...  2024-10-14 14:59:40   \n",
       "1   2  in the age of remoteworking you can work from ...  2024-10-14 14:05:20   \n",
       "2   3  after the pandemic of covid remote working is ...  2024-10-14 12:30:23   \n",
       "3   4  do employee monitoring tools have any place in...  2024-10-14 12:22:40   \n",
       "4   5  a little paint lots of productivity and a whol...  2024-10-14 12:22:03   \n",
       "\n",
       "   likes   source                                      filtered_text  \\\n",
       "0      0  Twitter  easy way stop video conference screen freeze o...   \n",
       "1      0  Twitter                    age remoteworke work need start   \n",
       "2      0  Twitter  pandemic covid remote working increase globe b...   \n",
       "3      0  Twitter  employee monitoring tool have place remote wor...   \n",
       "4      0  Twitter  little paint lot productivity whole new vibe c...   \n",
       "\n",
       "                                              tokens predictions  \n",
       "0  ['easy', 'way', 'stop', 'video', 'conference',...     neutral  \n",
       "1    ['age', 'remoteworke', 'work', 'need', 'start']     neutral  \n",
       "2  ['pandemic', 'covid', 'remote', 'working', 'in...         joy  \n",
       "3  ['employee', 'monitoring', 'tool', 'have', 'pl...     neutral  \n",
       "4  ['little', 'paint', 'lot', 'productivity', 'wh...         joy  "
      ]
     },
     "execution_count": 12,
     "metadata": {},
     "output_type": "execute_result"
    }
   ],
   "source": [
    "# Classify the text column and store the results in a new column\n",
    "social_media_data['predictions'] = social_media_data['filtered_text'].apply(lambda x: emotion_classifier(x)[0]['label'])\n",
    "\n",
    "social_media_data.head(5)"
   ]
  },
  {
   "cell_type": "code",
   "execution_count": 13,
   "metadata": {},
   "outputs": [],
   "source": [
    "# Save the dataframe with the predictions to a new CSV\n",
    "social_media_data.to_csv(\"labeled_data_text_filtered_97.csv\", index=False)"
   ]
  }
 ],
 "metadata": {
  "kernelspec": {
   "display_name": "masterDS-exp",
   "language": "python",
   "name": "python3"
  },
  "language_info": {
   "codemirror_mode": {
    "name": "ipython",
    "version": 3
   },
   "file_extension": ".py",
   "mimetype": "text/x-python",
   "name": "python",
   "nbconvert_exporter": "python",
   "pygments_lexer": "ipython3",
   "version": "3.11.5"
  }
 },
 "nbformat": 4,
 "nbformat_minor": 2
}
