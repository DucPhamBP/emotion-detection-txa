{
 "cells": [
  {
   "cell_type": "code",
   "execution_count": 1,
   "metadata": {},
   "outputs": [],
   "source": [
    "#Imports\n",
    "from transformers import pipeline\n",
    "import pandas as pd"
   ]
  },
  {
   "cell_type": "code",
   "execution_count": 2,
   "metadata": {},
   "outputs": [
    {
     "name": "stderr",
     "output_type": "stream",
     "text": [
      "/opt/miniconda3/envs/masterDS-exp/lib/python3.11/site-packages/torch/_utils.py:831: UserWarning: TypedStorage is deprecated. It will be removed in the future and UntypedStorage will be the only storage class. This should only matter to you if you are using storages directly.  To access UntypedStorage directly, use tensor.untyped_storage() instead of tensor.storage()\n",
      "  return self.fget.__get__(instance, owner)()\n"
     ]
    }
   ],
   "source": [
    "#Load the pre-tuned model\n",
    "distil_ROBERTa_model = 'michellejieli/emotion_text_classifier'\n",
    "\n",
    "emotion_classifier = pipeline(\"sentiment-analysis\", model=distil_ROBERTa_model)"
   ]
  },
  {
   "cell_type": "code",
   "execution_count": 7,
   "metadata": {},
   "outputs": [],
   "source": [
    "# Load the csv file containing text from X and Reddit\n",
    "social_media_data = pd.read_csv('../Data preprocessing/merged_df.csv')\n",
    "social_media_data = social_media_data.iloc[:4000]"
   ]
  },
  {
   "cell_type": "code",
   "execution_count": 8,
   "metadata": {},
   "outputs": [
    {
     "data": {
      "text/html": [
       "<div>\n",
       "<style scoped>\n",
       "    .dataframe tbody tr th:only-of-type {\n",
       "        vertical-align: middle;\n",
       "    }\n",
       "\n",
       "    .dataframe tbody tr th {\n",
       "        vertical-align: top;\n",
       "    }\n",
       "\n",
       "    .dataframe thead th {\n",
       "        text-align: right;\n",
       "    }\n",
       "</style>\n",
       "<table border=\"1\" class=\"dataframe\">\n",
       "  <thead>\n",
       "    <tr style=\"text-align: right;\">\n",
       "      <th></th>\n",
       "      <th>id</th>\n",
       "      <th>text</th>\n",
       "      <th>created_utc</th>\n",
       "      <th>Tokens</th>\n",
       "      <th>mapped_tokens</th>\n",
       "      <th>likes</th>\n",
       "      <th>source</th>\n",
       "      <th>predictions</th>\n",
       "    </tr>\n",
       "  </thead>\n",
       "  <tbody>\n",
       "    <tr>\n",
       "      <th>0</th>\n",
       "      <td>1</td>\n",
       "      <td>4 easy ways to stop video conference screen fr...</td>\n",
       "      <td>2024-10-14 14:59:40</td>\n",
       "      <td>['4', 'easy', 'ways', 'stop', 'video', 'confer...</td>\n",
       "      <td>['4', 'easy', 'ways', 'stop', 'video', 'confer...</td>\n",
       "      <td>0</td>\n",
       "      <td>Twitter</td>\n",
       "      <td>neutral</td>\n",
       "    </tr>\n",
       "    <tr>\n",
       "      <th>1</th>\n",
       "      <td>2</td>\n",
       "      <td>in the age of remoteworking you can work from ...</td>\n",
       "      <td>2024-10-14 14:05:20</td>\n",
       "      <td>['age', 'remoteworking', 'work', 'anywhere', '...</td>\n",
       "      <td>['age', 'remoteworking', 'work', 'anywhere', '...</td>\n",
       "      <td>0</td>\n",
       "      <td>Twitter</td>\n",
       "      <td>neutral</td>\n",
       "    </tr>\n",
       "    <tr>\n",
       "      <th>2</th>\n",
       "      <td>3</td>\n",
       "      <td>after the pandemic of covid19 remote working i...</td>\n",
       "      <td>2024-10-14 12:30:23</td>\n",
       "      <td>['pandemic', 'covid19', 'remote', 'working', '...</td>\n",
       "      <td>['pandemic', 'covid19', 'remote', 'working', '...</td>\n",
       "      <td>0</td>\n",
       "      <td>Twitter</td>\n",
       "      <td>joy</td>\n",
       "    </tr>\n",
       "    <tr>\n",
       "      <th>3</th>\n",
       "      <td>4</td>\n",
       "      <td>do employee monitoring tools have any place in...</td>\n",
       "      <td>2024-10-14 12:22:40</td>\n",
       "      <td>['employee', 'monitoring', 'tools', 'place', '...</td>\n",
       "      <td>['employee', 'monitoring', 'tools', 'place', '...</td>\n",
       "      <td>0</td>\n",
       "      <td>Twitter</td>\n",
       "      <td>neutral</td>\n",
       "    </tr>\n",
       "    <tr>\n",
       "      <th>4</th>\n",
       "      <td>5</td>\n",
       "      <td>a little paint lots of productivity and a whol...</td>\n",
       "      <td>2024-10-14 12:22:03</td>\n",
       "      <td>['little', 'paint', 'lots', 'productivity', 'w...</td>\n",
       "      <td>['little', 'paint', 'lots', 'productivity', 'w...</td>\n",
       "      <td>0</td>\n",
       "      <td>Twitter</td>\n",
       "      <td>joy</td>\n",
       "    </tr>\n",
       "  </tbody>\n",
       "</table>\n",
       "</div>"
      ],
      "text/plain": [
       "   id                                               text          created_utc  \\\n",
       "0   1  4 easy ways to stop video conference screen fr...  2024-10-14 14:59:40   \n",
       "1   2  in the age of remoteworking you can work from ...  2024-10-14 14:05:20   \n",
       "2   3  after the pandemic of covid19 remote working i...  2024-10-14 12:30:23   \n",
       "3   4  do employee monitoring tools have any place in...  2024-10-14 12:22:40   \n",
       "4   5  a little paint lots of productivity and a whol...  2024-10-14 12:22:03   \n",
       "\n",
       "                                              Tokens  \\\n",
       "0  ['4', 'easy', 'ways', 'stop', 'video', 'confer...   \n",
       "1  ['age', 'remoteworking', 'work', 'anywhere', '...   \n",
       "2  ['pandemic', 'covid19', 'remote', 'working', '...   \n",
       "3  ['employee', 'monitoring', 'tools', 'place', '...   \n",
       "4  ['little', 'paint', 'lots', 'productivity', 'w...   \n",
       "\n",
       "                                       mapped_tokens  likes   source  \\\n",
       "0  ['4', 'easy', 'ways', 'stop', 'video', 'confer...      0  Twitter   \n",
       "1  ['age', 'remoteworking', 'work', 'anywhere', '...      0  Twitter   \n",
       "2  ['pandemic', 'covid19', 'remote', 'working', '...      0  Twitter   \n",
       "3  ['employee', 'monitoring', 'tools', 'place', '...      0  Twitter   \n",
       "4  ['little', 'paint', 'lots', 'productivity', 'w...      0  Twitter   \n",
       "\n",
       "  predictions  \n",
       "0     neutral  \n",
       "1     neutral  \n",
       "2         joy  \n",
       "3     neutral  \n",
       "4         joy  "
      ]
     },
     "execution_count": 8,
     "metadata": {},
     "output_type": "execute_result"
    }
   ],
   "source": [
    "# Classify the text column and store the results in a new column\n",
    "social_media_data['predictions'] = social_media_data['text'].apply(lambda x: emotion_classifier(x)[0]['label'])\n",
    "\n",
    "social_media_data.head(5)"
   ]
  },
  {
   "cell_type": "code",
   "execution_count": null,
   "metadata": {},
   "outputs": [],
   "source": [
    "# Save the dataframe with the predictions to a new CSV\n",
    "social_media_data.to_csv(\"labeled_data.csv\", index=False)"
   ]
  }
 ],
 "metadata": {
  "kernelspec": {
   "display_name": "masterDS-exp",
   "language": "python",
   "name": "python3"
  },
  "language_info": {
   "codemirror_mode": {
    "name": "ipython",
    "version": 3
   },
   "file_extension": ".py",
   "mimetype": "text/x-python",
   "name": "python",
   "nbconvert_exporter": "python",
   "pygments_lexer": "ipython3",
   "version": "3.11.5"
  }
 },
 "nbformat": 4,
 "nbformat_minor": 2
}
