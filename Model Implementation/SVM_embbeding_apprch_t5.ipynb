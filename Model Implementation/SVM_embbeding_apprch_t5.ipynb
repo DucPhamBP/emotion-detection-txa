{
 "cells": [
  {
   "cell_type": "code",
   "execution_count": 1,
   "id": "c3328e6e-374d-4e94-985a-33e0f48286e2",
   "metadata": {},
   "outputs": [],
   "source": [
    "import pandas as pd\n",
    "import numpy as np\n",
    "import spacy\n",
    "from nltk.tokenize import word_tokenize\n",
    "from nltk.corpus import stopwords\n",
    "from nltk import download\n",
    "import time\n",
    "from sklearn.feature_extraction.text import TfidfVectorizer\n",
    "from sklearn.svm import SVC\n",
    "from sklearn.svm import LinearSVC\n",
    "from sklearn.feature_extraction.text import CountVectorizer  # Import CountVectorizer\n",
    "from sklearn.pipeline import Pipeline\n",
    "from sklearn.feature_selection import SelectKBest, chi2  # Import SelectKBest and chi2\n",
    "from sklearn.feature_extraction.text import TfidfTransformer, CountVectorizer\n",
    "from sklearn.model_selection import RandomizedSearchCV\n",
    "from scipy.stats import loguniform \n",
    "from sklearn.metrics import classification_report, accuracy_score\n",
    "from sklearn.preprocessing import StandardScaler\n",
    "import gensim\n",
    "from gensim.models import KeyedVectors\n",
    "import kagglehub\n"
   ]
  },
  {
   "cell_type": "code",
   "execution_count": 2,
   "id": "4bd6dfd1",
   "metadata": {},
   "outputs": [
    {
     "name": "stdout",
     "output_type": "stream",
     "text": [
      "Path to dataset files: C:\\Users\\urbi1\\.cache\\kagglehub\\datasets\\thanakomsn\\glove6b300dtxt\\versions\\1\n"
     ]
    }
   ],
   "source": [
    "# Download latest version\n",
    "path = kagglehub.dataset_download(\"thanakomsn/glove6b300dtxt\")\n",
    "\n",
    "print(\"Path to dataset files:\", path)"
   ]
  },
  {
   "cell_type": "code",
   "execution_count": 3,
   "id": "025f0721-764d-47c5-82ed-5630a1bf1319",
   "metadata": {},
   "outputs": [],
   "source": [
    "data = pd.read_csv('../Model Implementation/data/train_t5.csv')"
   ]
  },
  {
   "cell_type": "code",
   "execution_count": 4,
   "id": "0438ea5e-ce01-4083-8702-f820724e3d75",
   "metadata": {},
   "outputs": [
    {
     "name": "stderr",
     "output_type": "stream",
     "text": [
      "[nltk_data] Downloading package punkt to\n",
      "[nltk_data]     C:\\Users\\urbi1\\AppData\\Roaming\\nltk_data...\n",
      "[nltk_data]   Package punkt is already up-to-date!\n",
      "[nltk_data] Downloading package stopwords to\n",
      "[nltk_data]     C:\\Users\\urbi1\\AppData\\Roaming\\nltk_data...\n",
      "[nltk_data]   Package stopwords is already up-to-date!\n"
     ]
    }
   ],
   "source": [
    "# Download necessary NLTK resources\n",
    "download('punkt')  # For tokenization\n",
    "download('stopwords')  # For stopwords\n",
    "\n",
    "# Load SpaCy English model\n",
    "nlp = spacy.load(\"en_core_web_sm\")"
   ]
  },
  {
   "cell_type": "code",
   "execution_count": 5,
   "id": "c3a334db-e9e2-436c-a51b-d6d71616e472",
   "metadata": {},
   "outputs": [],
   "source": [
    "def preprocess_text(text):\n",
    "    # lowercase \n",
    "    text = text.lower()\n",
    "\n",
    "    tokens = word_tokenize(text)\n",
    "\n",
    "    # remove stopwords\n",
    "    stop_words = set(stopwords.words('english'))\n",
    "    tokens = [word for word in tokens if word.isalpha() and word not in stop_words]\n",
    "\n",
    "    # lemmatization (using SpaCy)\n",
    "    doc = nlp(\" \".join(tokens))\n",
    "    lemmatized_tokens = [token.lemma_ for token in doc]\n",
    "\n",
    "    # return to string \n",
    "    return \" \".join(lemmatized_tokens)"
   ]
  },
  {
   "cell_type": "code",
   "execution_count": 18,
   "id": "735f9056-8f66-4545-9a23-bea74a874462",
   "metadata": {},
   "outputs": [],
   "source": [
    "#data = pd.read_csv('../Model Implementation/data/train_t5.csv')\n",
    "#data['processed_text'] = data['text'].apply(preprocess_text)"
   ]
  },
  {
   "cell_type": "code",
   "execution_count": 19,
   "id": "da95d02f-aa8c-40d3-9e52-0577748ccd3b",
   "metadata": {},
   "outputs": [],
   "source": [
    "#test_data = pd.read_csv('../Model Implementation/data/test_t5.csv')\n",
    "#test_data['processed_text'] = test_data['text'].apply(preprocess_text)"
   ]
  },
  {
   "cell_type": "code",
   "execution_count": 20,
   "id": "8309b000",
   "metadata": {},
   "outputs": [],
   "source": [
    "#data.to_csv('../Model Implementation/data/temp/train.csv')\n",
    "#test_data.to_csv('../Model Implementation/data/temp/test.csv')"
   ]
  },
  {
   "cell_type": "code",
   "execution_count": 7,
   "id": "d1a7e4ff-30cf-4c69-aa65-45ef7fde887a",
   "metadata": {},
   "outputs": [],
   "source": [
    "data = pd.read_csv('../Model Implementation/data/temp/train.csv')\n",
    "test_data = pd.read_csv('../Model Implementation/data/temp/test.csv')"
   ]
  },
  {
   "cell_type": "markdown",
   "id": "32a4a2be",
   "metadata": {},
   "source": [
    "# APPLYING GENSIM FOR WORD-LEVEL EMBEDDINGS"
   ]
  },
  {
   "cell_type": "code",
   "execution_count": 11,
   "id": "1739630c",
   "metadata": {},
   "outputs": [
    {
     "name": "stdout",
     "output_type": "stream",
     "text": [
      "Loading GloVe model...\n"
     ]
    },
    {
     "name": "stdout",
     "output_type": "stream",
     "text": [
      "GloVe model loaded.\n"
     ]
    }
   ],
   "source": [
    "# Load GloVe embeddings\n",
    "def load_glove_model(glove_file):\n",
    "    print(\"Loading GloVe model...\")\n",
    "    glove_model = {}\n",
    "    with open(glove_file, 'r', encoding='utf-8') as f:\n",
    "        for line in f:\n",
    "            split_line = line.split()\n",
    "            word = split_line[0]\n",
    "            embedding = np.array([float(val) for val in split_line[1:]])\n",
    "            glove_model[word] = embedding\n",
    "    print(\"GloVe model loaded.\")\n",
    "    return glove_model\n",
    "\n",
    "# Load GloVe embeddings (assuming you have converted them to Word2Vec format)\n",
    "glove_file = path + '\\glove.6B.300d.txt' # Adjust the path to your GloVe file\n",
    "glove_model = load_glove_model(glove_file)\n",
    "\n",
    "# Alternatively, for Word2Vec pre-trained model\n",
    "# word2vec_model = KeyedVectors.load_word2vec_format('path/to/GoogleNews-vectors-negative300.bin', binary=True)\n"
   ]
  },
  {
   "cell_type": "code",
   "execution_count": 23,
   "id": "fb8ade50",
   "metadata": {},
   "outputs": [],
   "source": [
    "#full_data.to_csv('../Model Implementation/data/temp/full.csv')"
   ]
  },
  {
   "cell_type": "code",
   "execution_count": 14,
   "id": "21696d2d",
   "metadata": {},
   "outputs": [],
   "source": [
    "def get_sentence_vector(sentence, glove_model):\n",
    "    # Tokenize the sentence\n",
    "    words = word_tokenize(sentence)\n",
    "    word_vectors = []\n",
    "    \n",
    "    for word in words:\n",
    "        if word in glove_model:  # Check if the word is in the GloVe model\n",
    "            word_vectors.append(glove_model[word])  # Append the word vector\n",
    "    \n",
    "    if not word_vectors:  # Handle cases with no valid words\n",
    "        return np.zeros(300)  # Return a zero vector if no words are found (300 is the dimension of GloVe vectors)\n",
    "    \n",
    "    # Average the word vectors to create a fixed-length representation\n",
    "    return np.mean(word_vectors, axis=0)\n",
    "\n",
    "# Example usage\n",
    "data['sentence_vector'] = data['processed_text'].apply(lambda x: get_sentence_vector(x, glove_model))\n",
    "test_data['sentence_vector'] = test_data['processed_text'].apply(lambda x: get_sentence_vector(x, glove_model))\n"
   ]
  },
  {
   "cell_type": "code",
   "execution_count": 16,
   "id": "5bcba6cf",
   "metadata": {},
   "outputs": [],
   "source": [
    "# Convert the post embeddings to a NumPy array for model training\n",
    "X_train = np.array(data['sentence_vector'].tolist())\n",
    "y_train = data['label'].values  # Assuming your labels are in a column named 'label'\n",
    "\n",
    "# Convert the post embeddings to a NumPy array for model training\n",
    "X_test = np.array(test_data['sentence_vector'].tolist())\n",
    "y_test = test_data['label'].values  # Assuming your labels are in a column named 'label'\n"
   ]
  },
  {
   "cell_type": "code",
   "execution_count": 31,
   "id": "705fc4e3",
   "metadata": {},
   "outputs": [],
   "source": [
    "scaler = StandardScaler()\n",
    "X_train = scaler.fit_transform(X_train)\n",
    "X_test = scaler.transform(X_test)\n"
   ]
  },
  {
   "cell_type": "code",
   "execution_count": 32,
   "id": "37ac13bb",
   "metadata": {},
   "outputs": [
    {
     "data": {
      "text/html": [
       "<style>#sk-container-id-2 {color: black;}#sk-container-id-2 pre{padding: 0;}#sk-container-id-2 div.sk-toggleable {background-color: white;}#sk-container-id-2 label.sk-toggleable__label {cursor: pointer;display: block;width: 100%;margin-bottom: 0;padding: 0.3em;box-sizing: border-box;text-align: center;}#sk-container-id-2 label.sk-toggleable__label-arrow:before {content: \"▸\";float: left;margin-right: 0.25em;color: #696969;}#sk-container-id-2 label.sk-toggleable__label-arrow:hover:before {color: black;}#sk-container-id-2 div.sk-estimator:hover label.sk-toggleable__label-arrow:before {color: black;}#sk-container-id-2 div.sk-toggleable__content {max-height: 0;max-width: 0;overflow: hidden;text-align: left;background-color: #f0f8ff;}#sk-container-id-2 div.sk-toggleable__content pre {margin: 0.2em;color: black;border-radius: 0.25em;background-color: #f0f8ff;}#sk-container-id-2 input.sk-toggleable__control:checked~div.sk-toggleable__content {max-height: 200px;max-width: 100%;overflow: auto;}#sk-container-id-2 input.sk-toggleable__control:checked~label.sk-toggleable__label-arrow:before {content: \"▾\";}#sk-container-id-2 div.sk-estimator input.sk-toggleable__control:checked~label.sk-toggleable__label {background-color: #d4ebff;}#sk-container-id-2 div.sk-label input.sk-toggleable__control:checked~label.sk-toggleable__label {background-color: #d4ebff;}#sk-container-id-2 input.sk-hidden--visually {border: 0;clip: rect(1px 1px 1px 1px);clip: rect(1px, 1px, 1px, 1px);height: 1px;margin: -1px;overflow: hidden;padding: 0;position: absolute;width: 1px;}#sk-container-id-2 div.sk-estimator {font-family: monospace;background-color: #f0f8ff;border: 1px dotted black;border-radius: 0.25em;box-sizing: border-box;margin-bottom: 0.5em;}#sk-container-id-2 div.sk-estimator:hover {background-color: #d4ebff;}#sk-container-id-2 div.sk-parallel-item::after {content: \"\";width: 100%;border-bottom: 1px solid gray;flex-grow: 1;}#sk-container-id-2 div.sk-label:hover label.sk-toggleable__label {background-color: #d4ebff;}#sk-container-id-2 div.sk-serial::before {content: \"\";position: absolute;border-left: 1px solid gray;box-sizing: border-box;top: 0;bottom: 0;left: 50%;z-index: 0;}#sk-container-id-2 div.sk-serial {display: flex;flex-direction: column;align-items: center;background-color: white;padding-right: 0.2em;padding-left: 0.2em;position: relative;}#sk-container-id-2 div.sk-item {position: relative;z-index: 1;}#sk-container-id-2 div.sk-parallel {display: flex;align-items: stretch;justify-content: center;background-color: white;position: relative;}#sk-container-id-2 div.sk-item::before, #sk-container-id-2 div.sk-parallel-item::before {content: \"\";position: absolute;border-left: 1px solid gray;box-sizing: border-box;top: 0;bottom: 0;left: 50%;z-index: -1;}#sk-container-id-2 div.sk-parallel-item {display: flex;flex-direction: column;z-index: 1;position: relative;background-color: white;}#sk-container-id-2 div.sk-parallel-item:first-child::after {align-self: flex-end;width: 50%;}#sk-container-id-2 div.sk-parallel-item:last-child::after {align-self: flex-start;width: 50%;}#sk-container-id-2 div.sk-parallel-item:only-child::after {width: 0;}#sk-container-id-2 div.sk-dashed-wrapped {border: 1px dashed gray;margin: 0 0.4em 0.5em 0.4em;box-sizing: border-box;padding-bottom: 0.4em;background-color: white;}#sk-container-id-2 div.sk-label label {font-family: monospace;font-weight: bold;display: inline-block;line-height: 1.2em;}#sk-container-id-2 div.sk-label-container {text-align: center;}#sk-container-id-2 div.sk-container {/* jupyter's `normalize.less` sets `[hidden] { display: none; }` but bootstrap.min.css set `[hidden] { display: none !important; }` so we also need the `!important` here to be able to override the default hidden behavior on the sphinx rendered scikit-learn.org. See: https://github.com/scikit-learn/scikit-learn/issues/21755 */display: inline-block !important;position: relative;}#sk-container-id-2 div.sk-text-repr-fallback {display: none;}</style><div id=\"sk-container-id-2\" class=\"sk-top-container\"><div class=\"sk-text-repr-fallback\"><pre>SVC(class_weight={&#x27;anger&#x27;: 0.5499713486365322, &#x27;fear&#x27;: 1.3535755765720923,\n",
       "                  &#x27;joy&#x27;: 0.3753997653176265, &#x27;love&#x27;: 33.503080082135526,\n",
       "                  &#x27;sadness&#x27;: 1.4545778728715342,\n",
       "                  &#x27;surprise&#x27;: 16.186507936507937})</pre><b>In a Jupyter environment, please rerun this cell to show the HTML representation or trust the notebook. <br />On GitHub, the HTML representation is unable to render, please try loading this page with nbviewer.org.</b></div><div class=\"sk-container\" hidden><div class=\"sk-item\"><div class=\"sk-estimator sk-toggleable\"><input class=\"sk-toggleable__control sk-hidden--visually\" id=\"sk-estimator-id-2\" type=\"checkbox\" checked><label for=\"sk-estimator-id-2\" class=\"sk-toggleable__label sk-toggleable__label-arrow\">SVC</label><div class=\"sk-toggleable__content\"><pre>SVC(class_weight={&#x27;anger&#x27;: 0.5499713486365322, &#x27;fear&#x27;: 1.3535755765720923,\n",
       "                  &#x27;joy&#x27;: 0.3753997653176265, &#x27;love&#x27;: 33.503080082135526,\n",
       "                  &#x27;sadness&#x27;: 1.4545778728715342,\n",
       "                  &#x27;surprise&#x27;: 16.186507936507937})</pre></div></div></div></div></div>"
      ],
      "text/plain": [
       "SVC(class_weight={'anger': 0.5499713486365322, 'fear': 1.3535755765720923,\n",
       "                  'joy': 0.3753997653176265, 'love': 33.503080082135526,\n",
       "                  'sadness': 1.4545778728715342,\n",
       "                  'surprise': 16.186507936507937})"
      ]
     },
     "execution_count": 32,
     "metadata": {},
     "output_type": "execute_result"
    }
   ],
   "source": [
    "from sklearn.utils.class_weight import compute_class_weight\n",
    "\n",
    "# Compute class weights\n",
    "class_weights = compute_class_weight('balanced', classes=np.unique(y_train), y=y_train)\n",
    "class_weight_dict = dict(zip(np.unique(y_train), class_weights))\n",
    "\n",
    "# Train the SVM model with class weights\n",
    "model = SVC(kernel='rbf', class_weight=class_weight_dict)\n",
    "model.fit(X_train, y_train)  # y_train is your target labels"
   ]
  },
  {
   "cell_type": "code",
   "execution_count": 33,
   "id": "58265beb",
   "metadata": {},
   "outputs": [
    {
     "name": "stdout",
     "output_type": "stream",
     "text": [
      "Accuracy: 0.643866960856419\n",
      "Classification Report:\n",
      "              precision    recall  f1-score   support\n",
      "\n",
      "       anger       0.65      0.61      0.63      7417\n",
      "        fear       0.45      0.61      0.52      3014\n",
      "         joy       0.79      0.68      0.73     10865\n",
      "        love       0.30      0.21      0.25       122\n",
      "     sadness       0.51      0.67      0.58      2804\n",
      "    surprise       0.36      0.42      0.38       252\n",
      "\n",
      "    accuracy                           0.64     24474\n",
      "   macro avg       0.51      0.53      0.52     24474\n",
      "weighted avg       0.67      0.64      0.65     24474\n",
      "\n"
     ]
    }
   ],
   "source": [
    "predi = model.predict(X_test)\n",
    "print(f\"Accuracy: {accuracy_score(y_test, predi)}\")\n",
    "\n",
    "print(\"Classification Report:\")\n",
    "print(classification_report(y_test, predi))"
   ]
  }
 ],
 "metadata": {
  "kernelspec": {
   "display_name": "Python 3 (ipykernel)",
   "language": "python",
   "name": "python3"
  },
  "language_info": {
   "codemirror_mode": {
    "name": "ipython",
    "version": 3
   },
   "file_extension": ".py",
   "mimetype": "text/x-python",
   "name": "python",
   "nbconvert_exporter": "python",
   "pygments_lexer": "ipython3",
   "version": "3.11.5"
  }
 },
 "nbformat": 4,
 "nbformat_minor": 5
}
