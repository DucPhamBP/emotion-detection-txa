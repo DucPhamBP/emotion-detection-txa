{
 "cells": [
  {
   "cell_type": "code",
   "execution_count": 1,
   "metadata": {},
   "outputs": [],
   "source": [
    "import torch\n",
    "import torch.nn as nn\n",
    "import torch.optim as optim\n",
    "from utils import *\n",
    "import pandas as pd\n",
    "from sklearn.preprocessing import LabelEncoder\n",
    "from sklearn.metrics import  classification_report"
   ]
  },
  {
   "cell_type": "markdown",
   "metadata": {},
   "source": [
    "# RNN Model Definition"
   ]
  },
  {
   "cell_type": "code",
   "execution_count": 2,
   "metadata": {},
   "outputs": [],
   "source": [
    "class RNN(nn.Module):\n",
    "    def __init__(self, vocabulary_size, num_classes, embedding_dim, hidden_dim, n_layers, dropout=0.5):\n",
    "        \"\"\"\n",
    "        Args:\n",
    "        vocabulary_size (int): The size of the vocabulary (number of unique tokens in the input text).\n",
    "        num_classes (int): The number of output classes (labels).\n",
    "        embedding_dim (int): The dimension of the word embeddings (the vector size representing each word).\n",
    "        hidden_dim (int): The number of units in the hidden state of the RNN.\n",
    "        n_layers (int): The number of RNN layers to stack.\n",
    "        dropout (float, optional): The probability for dropout regularization (default is 0.5).\n",
    "        \"\"\"\n",
    "        super(RNN, self).__init__()\n",
    "        self.embedding = nn.Embedding(vocabulary_size, embedding_dim)\n",
    "        self.rnn = nn.RNN(embedding_dim, hidden_dim, n_layers, dropout=dropout, batch_first=True)\n",
    "        self.dropout = nn.Dropout(dropout)\n",
    "        self.fc = nn.Linear(hidden_dim, num_classes)\n",
    "\n",
    "    def forward(self, x):\n",
    "        embedded = self.embedding(x)\n",
    "        out, hidden = self.rnn(embedded)\n",
    "        out = self.dropout(out)\n",
    "        out = self.fc(out[:, -1])\n",
    "        return out"
   ]
  },
  {
   "cell_type": "markdown",
   "metadata": {},
   "source": [
    "# Yangswei_85\n",
    "\n",
    "To use the Yangswei_85 dataset, run the cell below."
   ]
  },
  {
   "cell_type": "code",
   "execution_count": 8,
   "metadata": {},
   "outputs": [],
   "source": [
    "# Load training set\n",
    "df_train = pd.read_csv('data/train_yangswei_85.csv')  \n",
    "# Load test set\n",
    "test_df = pd.read_csv('data/test_yangswei_85.csv')\n",
    "dataset_name = 'Yangswei_85'"
   ]
  },
  {
   "cell_type": "markdown",
   "metadata": {},
   "source": [
    "# T5 \n",
    "To use the T5 dataset, run the cell below."
   ]
  },
  {
   "cell_type": "code",
   "execution_count": null,
   "metadata": {},
   "outputs": [],
   "source": [
    "\n",
    "# Load training set\n",
    "df_train = pd.read_csv('data/train_t5.csv')  \n",
    "# Load test set\n",
    "test_df = pd.read_csv('data/test_t5.csv')\n",
    "dataset_name = 'T5'"
   ]
  },
  {
   "cell_type": "markdown",
   "metadata": {},
   "source": [
    "# Training and Validation"
   ]
  },
  {
   "cell_type": "markdown",
   "metadata": {},
   "source": [
    "## Training Data Preprocessing"
   ]
  },
  {
   "cell_type": "code",
   "execution_count": 4,
   "metadata": {},
   "outputs": [],
   "source": [
    "#Preprocess training data\n",
    "df_train['text'].apply(preprocess).to_frame()\n",
    "\n",
    "# Tokenize and pad training data\n",
    "padded_sequences, train_vocabulary, vocab_size = tokenize_and_pad(df_train[['text']].iloc[:2000])\n",
    "\n",
    "# Set training data\n",
    "train_data = padded_sequences\n",
    "\n",
    "#Encode labels and save classes in npy file\n",
    "label_encoder = LabelEncoder()\n",
    "label_encoder.fit(df_train['label'].iloc[:2000])\n",
    "np.save('data/label_classes.npy', label_encoder.classes_)\n",
    "train_labels = torch.tensor(label_encoder.transform(df_train['label'].iloc[:2000]))"
   ]
  },
  {
   "cell_type": "markdown",
   "metadata": {},
   "source": [
    "## Tune Hyperparameters"
   ]
  },
  {
   "cell_type": "code",
   "execution_count": 5,
   "metadata": {},
   "outputs": [
    {
     "name": "stdout",
     "output_type": "stream",
     "text": [
      "Fold 1/2, Params: {'embedding_dim': 100, 'hidden_dim': 128, 'n_layers': 1, 'dropout': 0.2, 'learning_rate': 0.001}\n"
     ]
    },
    {
     "name": "stderr",
     "output_type": "stream",
     "text": [
      "/opt/anaconda3/envs/txa/lib/python3.10/site-packages/torch/nn/modules/rnn.py:83: UserWarning: dropout option adds dropout after all but last recurrent layer, so non-zero dropout expects num_layers greater than 1, but got dropout=0.2 and num_layers=1\n",
      "  warnings.warn(\"dropout option adds dropout after all but last \"\n"
     ]
    },
    {
     "name": "stdout",
     "output_type": "stream",
     "text": [
      "Epoch: 1/5, Train Loss: 1.4327, Val Loss: 1.2095, Val Acc: 0.5660\n",
      "Epoch: 2/5, Train Loss: 1.2661, Val Loss: 1.1834, Val Acc: 0.5730\n",
      "Epoch: 3/5, Train Loss: 1.2411, Val Loss: 1.1771, Val Acc: 0.5790\n",
      "Epoch: 4/5, Train Loss: 1.2252, Val Loss: 1.1608, Val Acc: 0.5800\n",
      "Epoch: 5/5, Train Loss: 1.1912, Val Loss: 1.1459, Val Acc: 0.5900\n",
      "Fold 2/2, Params: {'embedding_dim': 100, 'hidden_dim': 128, 'n_layers': 1, 'dropout': 0.2, 'learning_rate': 0.001}\n"
     ]
    },
    {
     "name": "stderr",
     "output_type": "stream",
     "text": [
      "/opt/anaconda3/envs/txa/lib/python3.10/site-packages/torch/nn/modules/rnn.py:83: UserWarning: dropout option adds dropout after all but last recurrent layer, so non-zero dropout expects num_layers greater than 1, but got dropout=0.2 and num_layers=1\n",
      "  warnings.warn(\"dropout option adds dropout after all but last \"\n"
     ]
    },
    {
     "name": "stdout",
     "output_type": "stream",
     "text": [
      "Epoch: 1/5, Train Loss: 1.4229, Val Loss: 1.2694, Val Acc: 0.5440\n",
      "Epoch: 2/5, Train Loss: 1.1920, Val Loss: 1.2563, Val Acc: 0.5440\n",
      "Epoch: 3/5, Train Loss: 1.1743, Val Loss: 1.2457, Val Acc: 0.5520\n",
      "Epoch: 4/5, Train Loss: 1.1558, Val Loss: 1.2207, Val Acc: 0.5580\n",
      "Epoch: 5/5, Train Loss: 1.1276, Val Loss: 1.2126, Val Acc: 0.5680\n",
      "Best Parameters: {'embedding_dim': 100, 'hidden_dim': 128, 'n_layers': 1, 'dropout': 0.2, 'learning_rate': 0.001}\n",
      "Best Accuracy: 0.579\n"
     ]
    }
   ],
   "source": [
    "#Set fixed model parameters\n",
    "epochs = 5 #20\n",
    "num_classes = len(label_encoder.classes_)\n",
    "device = torch.device('cuda' if torch.cuda.is_available() else 'cpu')\n",
    "\n",
    "model_args = {\n",
    "    'vocabulary_size': vocab_size,\n",
    "    'num_classes': num_classes   \n",
    "}\n",
    "\n",
    "# Set the hyperparameters to tune\n",
    "param_grid = {\n",
    "    'embedding_dim': [100], # 200, 400\n",
    "    'hidden_dim': [128], #256, 512\n",
    "    'n_layers': [1], #2\n",
    "    'dropout': [0.2], # 0.3, 0.5\n",
    "    'learning_rate': [0.001] #, 0.01, 0.1\n",
    "}\n",
    "\n",
    "# Tune the model hyperparameters\n",
    "best_params, best_accuracy = tune_hyperparams(RNN, model_args, train_data, train_labels, param_grid, epochs, device)\n",
    "print(f\"Best Parameters: {best_params}\")\n",
    "print(f\"Best Accuracy: {best_accuracy}\")\n",
    "\n",
    "# Set the best hyperparameters\n",
    "embedding_dim, hidden_dim, n_layers, dropout, learning_rate = best_params.values()"
   ]
  },
  {
   "cell_type": "markdown",
   "metadata": {},
   "source": [
    "## Set model with best hyperparameters"
   ]
  },
  {
   "cell_type": "code",
   "execution_count": 6,
   "metadata": {},
   "outputs": [],
   "source": [
    "rnn_model = RNN(vocab_size, num_classes, embedding_dim, hidden_dim, n_layers, dropout).to(device)\n",
    "criterion = nn.CrossEntropyLoss()\n",
    "optimizer = optim.Adam(rnn_model.parameters(), lr=learning_rate)"
   ]
  },
  {
   "cell_type": "markdown",
   "metadata": {},
   "source": [
    "## Train and Validate best model"
   ]
  },
  {
   "cell_type": "code",
   "execution_count": 7,
   "metadata": {},
   "outputs": [
    {
     "name": "stdout",
     "output_type": "stream",
     "text": [
      "Start Training and Validation:\n",
      "\n",
      "Epoch: 1/5, Train Loss: 1.3809, Val Loss: 1.1877, Val Acc: 0.5625\n",
      "Epoch: 2/5, Train Loss: 1.2132, Val Loss: 1.1605, Val Acc: 0.5725\n",
      "Epoch: 3/5, Train Loss: 1.1882, Val Loss: 1.1505, Val Acc: 0.5875\n",
      "Epoch: 4/5, Train Loss: 1.1659, Val Loss: 1.1424, Val Acc: 0.5950\n",
      "Epoch: 5/5, Train Loss: 1.1625, Val Loss: 1.1308, Val Acc: 0.5925\n"
     ]
    },
    {
     "data": {
      "image/png": "[encoded data removed]",
      "text/plain": [
       "<Figure size 1000x500 with 1 Axes>"
      ]
     },
     "metadata": {},
     "output_type": "display_data"
    }
   ],
   "source": [
    "print(\"Start Training and Validation:\\n\")\n",
    "# Split training data into training and validation sets\n",
    "train_loader, val_loader = train_val_split(train_data, train_labels)\n",
    "\n",
    "# Train and validate best model\n",
    "train_losses, val_losses, val_accs, model = train_and_validate(\n",
    "    rnn_model, optimizer, criterion, train_loader, val_loader, epochs, device\n",
    ")\n",
    "\n",
    "# Plot training and validation losses\n",
    "plot_losses(\"RNN\", dataset_name, train_losses, val_losses, epochs)\n"
   ]
  },
  {
   "cell_type": "code",
   "execution_count": 9,
   "metadata": {},
   "outputs": [],
   "source": [
    "# Save best model configuration\n",
    "model_config = {\n",
    "    \"vocab_size\": vocab_size,\n",
    "    \"num_classes\": num_classes,\n",
    "    \"embedding_dim\": embedding_dim,\n",
    "    \"hidden_dim\": hidden_dim,\n",
    "    \"n_layers\": n_layers,\n",
    "    \"dropout\": dropout,\n",
    "    \"state_dict\": model.state_dict()\n",
    "}\n",
    "\n",
    "torch.save(model_config, \"models/RNN.pth\")"
   ]
  },
  {
   "cell_type": "markdown",
   "metadata": {},
   "source": [
    "# Test"
   ]
  },
  {
   "cell_type": "markdown",
   "metadata": {},
   "source": [
    "## Test Data Preprocessing"
   ]
  },
  {
   "cell_type": "code",
   "execution_count": 10,
   "metadata": {},
   "outputs": [],
   "source": [
    "# Preprocess test data\n",
    "test_df['text'].apply(preprocess).to_frame()  \n",
    "\n",
    "# Tokenize and pad test data\n",
    "padded_sequences, _, _ = tokenize_and_pad(test_df[['text']].iloc[:2000], train_vocabulary)\n",
    "\n",
    "# Set test data\n",
    "test_data = padded_sequences\n",
    "\n",
    "#Encode test labels by loading encoder used for training labels\n",
    "label_classes = np.load('data/label_classes.npy', allow_pickle=True)\n",
    "label_encoder = LabelEncoder()\n",
    "label_encoder.classes_ = label_classes\n",
    "test_labels = torch.tensor(label_encoder.transform(test_df['label'].iloc[:2000]))"
   ]
  },
  {
   "cell_type": "markdown",
   "metadata": {},
   "source": [
    "## Test best model on test data"
   ]
  },
  {
   "cell_type": "code",
   "execution_count": 11,
   "metadata": {},
   "outputs": [
    {
     "name": "stderr",
     "output_type": "stream",
     "text": [
      "/opt/anaconda3/envs/txa/lib/python3.10/site-packages/torch/nn/modules/rnn.py:83: UserWarning: dropout option adds dropout after all but last recurrent layer, so non-zero dropout expects num_layers greater than 1, but got dropout=0.2 and num_layers=1\n",
      "  warnings.warn(\"dropout option adds dropout after all but last \"\n"
     ]
    }
   ],
   "source": [
    "# Wrap the test data in a DataLoader\n",
    "test_loader = DataLoader(TensorDataset(test_data, test_labels), batch_size=128, shuffle=False)\n",
    "\n",
    "#Load trained model\n",
    "model_config = torch.load(\"models/RNN.pth\")\n",
    "model = RNN(model_config[\"vocab_size\"], model_config[\"num_classes\"], model_config[\"embedding_dim\"], model_config[\"hidden_dim\"],model_config[\"n_layers\"], model_config[\"dropout\"])  \n",
    "model.load_state_dict(model_config[\"state_dict\"])  \n",
    "model.to(device)\n",
    "\n",
    "#Test model on test set\n",
    "predictions, true_labels = test(model, test_loader, device)"
   ]
  },
  {
   "cell_type": "markdown",
   "metadata": {},
   "source": [
    "## Compute metrics on model performance"
   ]
  },
  {
   "cell_type": "code",
   "execution_count": 13,
   "metadata": {},
   "outputs": [
    {
     "name": "stdout",
     "output_type": "stream",
     "text": [
      "Test Accuracy: 0.6060\n",
      "Macro Metrics\n",
      "\n",
      "Macro Precision: 0.1010\n",
      "Macro Recall: 0.1667\n",
      "Macro F1 Score: 0.1258\n",
      "Weighted Metrics\n",
      "\n",
      "Weighted Precision: 0.3672\n",
      "Weighted Recall: 0.6060\n",
      "Weighted F1 Score: 0.4573\n"
     ]
    },
    {
     "name": "stderr",
     "output_type": "stream",
     "text": [
      "/opt/anaconda3/envs/txa/lib/python3.10/site-packages/sklearn/metrics/_classification.py:1334: UndefinedMetricWarning: Precision is ill-defined and being set to 0.0 in labels with no predicted samples. Use `zero_division` parameter to control this behavior.\n",
      "  _warn_prf(average, modifier, msg_start, len(result))\n",
      "/opt/anaconda3/envs/txa/lib/python3.10/site-packages/sklearn/metrics/_classification.py:1334: UndefinedMetricWarning: Precision is ill-defined and being set to 0.0 in labels with no predicted samples. Use `zero_division` parameter to control this behavior.\n",
      "  _warn_prf(average, modifier, msg_start, len(result))\n"
     ]
    },
    {
     "data": {
      "image/png": "[encoded data removed]",
      "text/plain": [
       "<Figure size 1000x800 with 2 Axes>"
      ]
     },
     "metadata": {},
     "output_type": "display_data"
    }
   ],
   "source": [
    "\n",
    "# Compute metrics\n",
    "metrics = compute_metrics(predictions, true_labels)\n",
    "print(f\"Test Accuracy: {metrics['accuracy']:.4f}\")\n",
    "print('\\n')\n",
    "print('Macro Metrics')\n",
    "print(f\"Macro Precision: {metrics['precision']:.4f}\")\n",
    "print(f\"Macro Recall: {metrics['recall']:.4f}\")\n",
    "print(f\"Macro F1 Score: {metrics['f1']:.4f}\")\n",
    "print('\\n')\n",
    "print('Weighted Metrics')\n",
    "print(f\"Weighted Precision: {metrics['precision_weighted']:.4f}\")\n",
    "print(f\"Weighted Recall: {metrics['recall_weighted']:.4f}\")\n",
    "print(f\"Weighted F1 Score: {metrics['f1_weighted']:.4f}\")\n",
    "\n",
    "# Plot confusion matrix\n",
    "plot_confusion_matrix(true_labels, predictions, label_classes)"
   ]
  },
  {
   "cell_type": "code",
   "execution_count": 16,
   "metadata": {},
   "outputs": [
    {
     "name": "stdout",
     "output_type": "stream",
     "text": [
      "Classification Report:\n",
      "\n",
      "              precision    recall  f1-score   support\n",
      "\n",
      "       anger       0.00      0.00      0.00       277\n",
      "        fear       0.00      0.00      0.00       119\n",
      "         joy       0.61      1.00      0.75      1212\n",
      "        love       0.00      0.00      0.00        11\n",
      "     sadness       0.00      0.00      0.00       355\n",
      "    surprise       0.00      0.00      0.00        26\n",
      "\n",
      "    accuracy                           0.61      2000\n",
      "   macro avg       0.10      0.17      0.13      2000\n",
      "weighted avg       0.37      0.61      0.46      2000\n",
      "\n"
     ]
    },
    {
     "name": "stderr",
     "output_type": "stream",
     "text": [
      "/opt/anaconda3/envs/txa/lib/python3.10/site-packages/sklearn/metrics/_classification.py:1334: UndefinedMetricWarning: Precision and F-score are ill-defined and being set to 0.0 in labels with no predicted samples. Use `zero_division` parameter to control this behavior.\n",
      "  _warn_prf(average, modifier, msg_start, len(result))\n",
      "/opt/anaconda3/envs/txa/lib/python3.10/site-packages/sklearn/metrics/_classification.py:1334: UndefinedMetricWarning: Precision and F-score are ill-defined and being set to 0.0 in labels with no predicted samples. Use `zero_division` parameter to control this behavior.\n",
      "  _warn_prf(average, modifier, msg_start, len(result))\n",
      "/opt/anaconda3/envs/txa/lib/python3.10/site-packages/sklearn/metrics/_classification.py:1334: UndefinedMetricWarning: Precision and F-score are ill-defined and being set to 0.0 in labels with no predicted samples. Use `zero_division` parameter to control this behavior.\n",
      "  _warn_prf(average, modifier, msg_start, len(result))\n"
     ]
    }
   ],
   "source": [
    "\n",
    "# Print classification report\n",
    "print('Classification Report:\\n')\n",
    "print(classification_report(true_labels, predictions, target_names=label_classes))\n"
   ]
  }
 ],
 "metadata": {
  "kernelspec": {
   "display_name": "txa",
   "language": "python",
   "name": "python3"
  },
  "language_info": {
   "codemirror_mode": {
    "name": "ipython",
    "version": 3
   },
   "file_extension": ".py",
   "mimetype": "text/x-python",
   "name": "python",
   "nbconvert_exporter": "python",
   "pygments_lexer": "ipython3",
   "version": "3.10.15"
  }
 },
 "nbformat": 4,
 "nbformat_minor": 2
}
